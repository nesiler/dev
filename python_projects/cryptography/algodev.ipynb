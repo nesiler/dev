{
 "cells": [
  {
   "cell_type": "code",
   "execution_count": 1,
   "metadata": {},
   "outputs": [
    {
     "name": "stdout",
     "output_type": "stream",
     "text": [
      "6\n",
      "6\n",
      "5\n",
      "4\n",
      "3\n",
      "2\n",
      "1\n",
      "5\n",
      "5\n",
      "4\n",
      "3\n",
      "2\n",
      "1\n",
      "4\n",
      "4\n",
      "3\n",
      "2\n",
      "1\n",
      "3\n",
      "3\n",
      "2\n",
      "1\n",
      "2\n",
      "2\n",
      "1\n",
      "1\n",
      "1\n",
      "6 2 9 16 1\n"
     ]
    }
   ],
   "source": [
    "a = (-3,1,8,4,-1,2,1,-5,5)\n",
    "j = 6\n",
    "sum = 0\n",
    "size = len(a)\n",
    "max = 0\n",
    "start = 0\n",
    "\n",
    "for i in range(j,0,-1):\n",
    "    print(i)\n",
    "    sum = a[j]\n",
    "    for k in range(i ,0, -1):\n",
    "        print(k)\n",
    "        sum = sum + a[k]\n",
    "        if(sum > max):\n",
    "            max = sum\n",
    "            start = k\n",
    "\n",
    "print(j, sum, size, max, start)"
   ]
  },
  {
   "cell_type": "code",
   "execution_count": 2,
   "metadata": {},
   "outputs": [
    {
     "ename": "SyntaxError",
     "evalue": "invalid syntax (2206506103.py, line 7)",
     "output_type": "error",
     "traceback": [
      "\u001b[1;36m  Input \u001b[1;32mIn [2]\u001b[1;36m\u001b[0m\n\u001b[1;33m    for i = j to 0\u001b[0m\n\u001b[1;37m          ^\u001b[0m\n\u001b[1;31mSyntaxError\u001b[0m\u001b[1;31m:\u001b[0m invalid syntax\n"
     ]
    }
   ],
   "source": [
    "j = 6\n",
    "sum = 0\n",
    "size = length(a)\n",
    "max = 0\n",
    "start = 0\n",
    "\n",
    "for i = j to 0\n",
    "    sum = a[j]\n",
    "    for k = i to 0\n",
    "        sum = sum + a[k]\n",
    "        if(sum > max)\n",
    "            max = sum\n",
    "            start = k\n"
   ]
  }
 ],
 "metadata": {
  "kernelspec": {
   "display_name": "Python 3.10.5 64-bit (windows store)",
   "language": "python",
   "name": "python3"
  },
  "language_info": {
   "codemirror_mode": {
    "name": "ipython",
    "version": 3
   },
   "file_extension": ".py",
   "mimetype": "text/x-python",
   "name": "python",
   "nbconvert_exporter": "python",
   "pygments_lexer": "ipython3",
   "version": "3.10.5"
  },
  "orig_nbformat": 4,
  "vscode": {
   "interpreter": {
    "hash": "f4c1dab0cc33f4d15d913d79c774380cfc6d10949cb65ed2717a3f9f0d45a388"
   }
  }
 },
 "nbformat": 4,
 "nbformat_minor": 2
}
