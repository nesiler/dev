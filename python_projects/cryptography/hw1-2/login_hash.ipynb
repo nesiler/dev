{
  "cells": [
    {
      "cell_type": "code",
      "execution_count": 11,
      "metadata": {
        "colab": {
          "base_uri": "https://localhost:8080/"
        },
        "id": "DELmZAm0sKyJ",
        "outputId": "c7d8961a-86ac-4aa7-eb84-037edb0b94ce"
      },
      "outputs": [],
      "source": [
        "#!pip install pysondb\n",
        "import time, json, sys\n",
        "from hashlib import sha256\n",
        "from pysondb import db\n",
        "database = db.getDb(\"db.json\")"
      ]
    },
    {
      "cell_type": "code",
      "execution_count": 14,
      "metadata": {
        "colab": {
          "base_uri": "https://localhost:8080/"
        },
        "id": "_kn8P-jOr5Hd",
        "outputId": "848c8ebd-48f9-4124-c6c6-1d0f9ffd1fce"
      },
      "outputs": [
        {
          "name": "stdout",
          "output_type": "stream",
          "text": [
            "Login System\n",
            "Options: r (for register) | l (for login) | e (for exit)\n",
            "Options: r (for register) | l (for login) | e (for exit)\n",
            "Creating account...\n",
            "Account has been created\n",
            "Options: r (for register) | l (for login) | e (for exit)\n",
            "Nice :)\n",
            "Options: r (for register) | l (for login) | e (for exit)\n",
            "Bye!\n"
          ]
        }
      ],
      "source": [
        "def cant_be_blank(form, name):\n",
        "    if not len(form) > 0: # or, use `not validate`\n",
        "        print(name + \" can't be blank.\")\n",
        "        return False\n",
        "    return True\n",
        "\n",
        "def validate(form):\n",
        "    if len(form) > 0:\n",
        "        return False\n",
        "    return True\n",
        "\n",
        "def loginauth(username, password):\n",
        "\n",
        "    hash = sha256()\n",
        "    hash_1 = sha256()\n",
        "    hash.update(password.encode('utf-8'))\n",
        "    password = hash.hexdigest()\n",
        "\n",
        "    check = database.getByQuery({\"name\":username})\n",
        "    for i in check:\n",
        "      check_pass = i['password']\n",
        "      if(check_pass == password):\n",
        "            return True\n",
        "    return False\n",
        "\n",
        "def login():\n",
        "\n",
        "    while True:\n",
        "        username = input(\"Username: \")\n",
        "        if cant_be_blank(username, \"Username\"):\n",
        "          break\n",
        "    while True:\n",
        "        password = input(\"Password: \")\n",
        "        if cant_be_blank(password, \"Password\"):\n",
        "          break\n",
        "\n",
        "    if loginauth(username, password):\n",
        "        print(\"Nice :)\")\n",
        "    else:\n",
        "        print(\"Bad Luck :(\")\n",
        "\n",
        "def register():\n",
        "    while True:\n",
        "        username = input(\"New username: \")\n",
        "        if cant_be_blank(username, \"Username\"):\n",
        "          break\n",
        "    while True:\n",
        "        password = input(\"New password: \")\n",
        "        if cant_be_blank(password, \"Password\"):\n",
        "          break\n",
        "\n",
        "    print(\"Creating account...\")\n",
        "\n",
        "    hash = sha256()\n",
        "    hash.update(password.encode('utf-8'))\n",
        "    password = hash.hexdigest()\n",
        "    database.add({\"name\":username,\"password\":password})\n",
        "    time.sleep(1)\n",
        "    print(\"Account has been created\")\n",
        "\n",
        "\n",
        "print(\"Login System\")\n",
        "print(\"Options: r (for register) | l (for login) | e (for exit)\")\n",
        "\n",
        "while True:\n",
        "    print(\"Options: r (for register) | l (for login) | e (for exit)\")\n",
        "    option = input(\"> \")\n",
        "    if option == \"l\":\n",
        "        login()\n",
        "    elif option == \"r\":\n",
        "        register()\n",
        "    elif option == \"e\":\n",
        "        break\n",
        "    else:\n",
        "        print(option + \" is not an option\")\n",
        "\n",
        "\n",
        "print(\"Bye!\")\n",
        "time.sleep(1)"
      ]
    }
  ],
  "metadata": {
    "colab": {
      "collapsed_sections": [],
      "name": "login_hash.ipynb",
      "provenance": []
    },
    "kernelspec": {
      "display_name": "Python 3.10.5 64-bit (windows store)",
      "language": "python",
      "name": "python3"
    },
    "language_info": {
      "codemirror_mode": {
        "name": "ipython",
        "version": 3
      },
      "file_extension": ".py",
      "mimetype": "text/x-python",
      "name": "python",
      "nbconvert_exporter": "python",
      "pygments_lexer": "ipython3",
      "version": "3.10.5"
    },
    "vscode": {
      "interpreter": {
        "hash": "f4c1dab0cc33f4d15d913d79c774380cfc6d10949cb65ed2717a3f9f0d45a388"
      }
    }
  },
  "nbformat": 4,
  "nbformat_minor": 0
}
