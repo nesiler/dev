{
 "cells": [
  {
   "cell_type": "code",
   "execution_count": 2,
   "metadata": {},
   "outputs": [],
   "source": [
    "import time, math, itertools\n",
    "from itertools import count\n",
    "\n",
    "def is_primee(n):\n",
    "    if n <= 1:\n",
    "        return False\n",
    " \n",
    "    max_div = math.floor(math.sqrt(n))\n",
    "    for i in range(2, 1 + max_div):\n",
    "        if n % i == 0:\n",
    "            return False\n",
    "    return True\n",
    "\n",
    "def is_prime(n):\n",
    "    #print(\"Checking if number is prime\")\n",
    "    if n <= 1:\n",
    "        return False\n",
    "    for i in range(2,n):\n",
    "        if n % i == 0:\n",
    "            return False\n",
    "    return True\n",
    "\n",
    "def prime_factor(m):\n",
    "    #print(\"calculating prime factors\")\n",
    "    ls = []\n",
    "    for i in itertools.chain([2], itertools.count(3, 1)):\n",
    "        if (m <= 1):\n",
    "            break\n",
    "        while (m % i == 0):\n",
    "            m //= i\n",
    "            yield i\n",
    "            ls.append(i)\n",
    "    return ls\n",
    "\n",
    "def is_primeS(m, n):\n",
    "    #print(\"checking if numbers are prime numbers between\")\n",
    "    m_factors = prime_factor(m)\n",
    "    n_factors = prime_factor(n)\n",
    "\n",
    "    for i in m_factors:\n",
    "        for j in n_factors:\n",
    "            if (i == j):\n",
    "                return False\n",
    "    \n",
    "    return True\n",
    "\n",
    "def e_finder(f):\n",
    "    print(\"calculating possible values for e...\")\n",
    "    ls = []\n",
    "    for i in range(2,f):\n",
    "        if(is_primeS(i, f)):\n",
    "            ls.append(i)\n",
    "        \n",
    "    return ls\n",
    "\n",
    "def d_finder(e, f):\n",
    "    print(\"calculating d...\")\n",
    "    # returns the first number that satisfies the conditions\n",
    "    for i in count(0):\n",
    "        res = (f * i) + 1\n",
    "        if(res % e == 0):\n",
    "            d = res // e\n",
    "            return d\n",
    "    return None\n",
    "\n",
    "def encrypt(p, q, msg):\n",
    "    print(\"encrypting...\")\n",
    "    n = p * q\n",
    "    f = (p-1) * (q-1)\n",
    "    es = e_finder(f)\n",
    "    e = es[len(es) // 2]\n",
    "    d = d_finder(e, f)\n",
    "    encrypted = pow(msg, e) % n\n",
    "    print(\"encrypted\")\n",
    "    return encrypted\n",
    "\n",
    "def decrypt(p, q, encrypted):\n",
    "    print(\"decrypting...\")\n",
    "    n = p * q\n",
    "    f = (p-1) * (q-1)\n",
    "    es = e_finder(f)\n",
    "    e = es[len(es) // 2]\n",
    "    d = d_finder(e, f)\n",
    "    decrypted = pow(encrypted, d) % n\n",
    "    print(\"decrypted\")\n",
    "    return decrypted\n",
    "\n"
   ]
  },
  {
   "cell_type": "code",
   "execution_count": 4,
   "metadata": {},
   "outputs": [
    {
     "name": "stdout",
     "output_type": "stream",
     "text": [
      "encrypting...\n",
      "calculating possible values for e...\n",
      "calculating d...\n",
      "encrypted\n",
      "decrypting...\n",
      "calculating possible values for e...\n",
      "calculating d...\n",
      "decrypted\n",
      "message: 19852 encrypted: 12038 decrypted: 19852\n"
     ]
    }
   ],
   "source": [
    "#the message must be lower than n(p*q) idk why\n",
    "p = 227\n",
    "q = 229\n",
    "msg = 19852\n",
    "encrypted = encrypt(p, q, msg)\n",
    "decrypted = decrypt(p, q, encrypted)\n",
    "print(\"message:\", msg, \"encrypted:\", encrypted, \"decrypted:\", decrypted)\n"
   ]
  }
 ],
 "metadata": {
  "kernelspec": {
   "display_name": "Python 3.10.5 64-bit (windows store)",
   "language": "python",
   "name": "python3"
  },
  "language_info": {
   "codemirror_mode": {
    "name": "ipython",
    "version": 3
   },
   "file_extension": ".py",
   "mimetype": "text/x-python",
   "name": "python",
   "nbconvert_exporter": "python",
   "pygments_lexer": "ipython3",
   "version": "3.10.5"
  },
  "orig_nbformat": 4,
  "vscode": {
   "interpreter": {
    "hash": "f4c1dab0cc33f4d15d913d79c774380cfc6d10949cb65ed2717a3f9f0d45a388"
   }
  }
 },
 "nbformat": 4,
 "nbformat_minor": 2
}
