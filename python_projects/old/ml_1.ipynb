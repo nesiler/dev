{
 "cells": [
  {
   "cell_type": "code",
   "execution_count": 21,
   "metadata": {},
   "outputs": [
    {
     "name": "stdout",
     "output_type": "stream",
     "text": [
      "s: 4999724\n",
      "a: 5000275\n"
     ]
    }
   ],
   "source": [
    "import random\n",
    "\n",
    "y = ['a', 's']\n",
    "s = 0\n",
    "a = 0\n",
    "\n",
    "for i in range(1, 10000000):\n",
    "    x = random.choice(y)\n",
    "    if x == 's':\n",
    "        s += 1\n",
    "    else:\n",
    "        a += 1\n",
    "\n",
    "print('s:', s)\n",
    "print('a:', a)"
   ]
  },
  {
   "cell_type": "code",
   "execution_count": 9,
   "metadata": {},
   "outputs": [
    {
     "name": "stdout",
     "output_type": "stream",
     "text": [
      "s: 500869\n",
      "a: 499130\n"
     ]
    }
   ],
   "source": [
    "import random\n",
    "\n",
    "y = ['a', 's']\n",
    "s = 0\n",
    "a = 0\n",
    "\n",
    "for i in range(1, 1000000):\n",
    "    x = random.choice(y)\n",
    "    if x == 's':\n",
    "        s += 1\n",
    "    else:\n",
    "        a += 1\n",
    "\n",
    "print('s:', s)\n",
    "print('a:', a)"
   ]
  }
 ],
 "metadata": {
  "kernelspec": {
   "display_name": "base",
   "language": "python",
   "name": "python3"
  },
  "language_info": {
   "codemirror_mode": {
    "name": "ipython",
    "version": 3
   },
   "file_extension": ".py",
   "mimetype": "text/x-python",
   "name": "python",
   "nbconvert_exporter": "python",
   "pygments_lexer": "ipython3",
   "version": "3.9.13 (main, Aug 25 2022, 18:24:45) \n[Clang 12.0.0 ]"
  },
  "orig_nbformat": 4,
  "vscode": {
   "interpreter": {
    "hash": "89ab4a5685ff2edc1f7ef6dc68687bd8b88326787827a1c15a17a721901531f5"
   }
  }
 },
 "nbformat": 4,
 "nbformat_minor": 2
}
