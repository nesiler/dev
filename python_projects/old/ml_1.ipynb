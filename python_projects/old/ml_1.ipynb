{
 "cells": [
  {
   "cell_type": "code",
   "execution_count": 21,
   "metadata": {},
   "outputs": [
    {
     "name": "stdout",
     "output_type": "stream",
     "text": [
      "s: 4999724\n",
      "a: 5000275\n"
     ]
    }
   ],
   "source": [
    "import random\n",
    "\n",
    "y = ['a', 's']\n",
    "s = 0\n",
    "a = 0\n",
    "\n",
    "for i in range(1, 10000000):\n",
    "    x = random.choice(y)\n",
    "    if x == 's':\n",
    "        s += 1\n",
    "    else:\n",
    "        a += 1\n",
    "\n",
    "print('s:', s)\n",
    "print('a:', a)"
   ]
  }
 ],
 "metadata": {
  "kernelspec": {
   "display_name": "Python 3.10.5 64-bit (windows store)",
   "language": "python",
   "name": "python3"
  },
  "language_info": {
   "codemirror_mode": {
    "name": "ipython",
    "version": 3
   },
   "file_extension": ".py",
   "mimetype": "text/x-python",
   "name": "python",
   "nbconvert_exporter": "python",
   "pygments_lexer": "ipython3",
   "version": "3.10.5"
  },
  "orig_nbformat": 4,
  "vscode": {
   "interpreter": {
    "hash": "f4c1dab0cc33f4d15d913d79c774380cfc6d10949cb65ed2717a3f9f0d45a388"
   }
  }
 },
 "nbformat": 4,
 "nbformat_minor": 2
}
