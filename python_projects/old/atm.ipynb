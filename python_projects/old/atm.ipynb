{
 "cells": [
  {
   "cell_type": "code",
   "execution_count": null,
   "metadata": {},
   "outputs": [],
   "source": [
    "d = {'1kr':0.01,'5kr':0.05,'10kr':0.1,'25kr':0.25,'50kr':0.5,'1tl':1.0, '5tl':5.0, \n",
    "'10tl':10.0,'25tl':25.0,'50tl':50.0,'100tl':100.0, '200tl':200.0, '500tl':500.0,}\n",
    "\n"
   ]
  },
  {
   "cell_type": "code",
   "execution_count": null,
   "metadata": {},
   "outputs": [],
   "source": [
    "m = 149.84\n",
    "l = []\n",
    "\n",
    "def greedy(m, d):\n",
    "    x = 0\n",
    "    for i in reversed(d):\n",
    "        while m >= d[i]:\n",
    "            x += 1\n",
    "            l.append(i)\n",
    "            m -= d[i]\n",
    "\n",
    "    return x\n",
    "\n",
    "print(greedy(m, d))\n",
    "print(l)"
   ]
  }
 ],
 "metadata": {
  "kernelspec": {
   "display_name": "Python 3.10.6 64-bit",
   "language": "python",
   "name": "python3"
  },
  "language_info": {
   "codemirror_mode": {
    "name": "ipython",
    "version": 3
   },
   "file_extension": ".py",
   "mimetype": "text/x-python",
   "name": "python",
   "nbconvert_exporter": "python",
   "pygments_lexer": "ipython3",
   "version": "3.10.8"
  },
  "orig_nbformat": 4,
  "vscode": {
   "interpreter": {
    "hash": "b0fa6594d8f4cbf19f97940f81e996739fb7646882a419484c72d19e05852a7e"
   }
  }
 },
 "nbformat": 4,
 "nbformat_minor": 2
}
